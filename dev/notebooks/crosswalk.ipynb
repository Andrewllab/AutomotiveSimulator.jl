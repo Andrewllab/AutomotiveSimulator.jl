{
 "cells": [
  {
   "cell_type": "markdown",
   "source": [
    "# Crosswalk"
   ],
   "metadata": {}
  },
  {
   "cell_type": "markdown",
   "source": [
    "In this notebook we demonstrate how to define a crosswalk with pedestrians using `AutomotiveSimulator`.\n",
    "To do this, we define a crosswalk area as well as a pedestrian agent type."
   ],
   "metadata": {}
  },
  {
   "cell_type": "markdown",
   "source": [
    "## Generate a crosswalk environment"
   ],
   "metadata": {}
  },
  {
   "cell_type": "markdown",
   "source": [
    "We define a new concrete type that will contain the roadway (where cars drive)\n",
    "and the crosswalk definition which is just a regular lane."
   ],
   "metadata": {}
  },
  {
   "outputs": [],
   "cell_type": "code",
   "source": [
    "using AutomotiveSimulator\n",
    "using AutomotiveVisualization\n",
    "AutomotiveVisualization.colortheme[\"background\"] = colorant\"white\"; # hide\n",
    "using Random\n",
    "\n",
    "struct CrosswalkEnv\n",
    "    roadway::Roadway{Float64}\n",
    "    crosswalk::Lane{Float64}\n",
    "end"
   ],
   "metadata": {},
   "execution_count": null
  },
  {
   "cell_type": "markdown",
   "source": [
    "The crosswalk lane consists of a straight road segment perpendicular to the road.\n",
    "We will define the roadway just as a straight road."
   ],
   "metadata": {}
  },
  {
   "cell_type": "markdown",
   "source": [
    "geometry parameters"
   ],
   "metadata": {}
  },
  {
   "outputs": [],
   "cell_type": "code",
   "source": [
    "roadway_length = 50.\n",
    "crosswalk_length = 20.\n",
    "crosswalk_width = 6.0\n",
    "crosswalk_pos = roadway_length/2"
   ],
   "metadata": {},
   "execution_count": null
  },
  {
   "cell_type": "markdown",
   "source": [
    "Generate a straight 2-lane roadway and a crosswalk lane"
   ],
   "metadata": {}
  },
  {
   "outputs": [],
   "cell_type": "code",
   "source": [
    "roadway = gen_straight_roadway(2, roadway_length)\n",
    "crosswalk_start = VecE2(crosswalk_pos, -crosswalk_length/2)\n",
    "crosswalk_end = VecE2(crosswalk_pos, crosswalk_length/2)\n",
    "crosswalk_lane = gen_straight_curve(crosswalk_start, crosswalk_end, 2)\n",
    "crosswalk = Lane(LaneTag(2,1), crosswalk_lane, width = crosswalk_width)\n",
    "cw_segment = RoadSegment(2, [crosswalk])\n",
    "push!(roadway.segments, cw_segment) # append it to the roadway"
   ],
   "metadata": {},
   "execution_count": null
  },
  {
   "cell_type": "markdown",
   "source": [
    "initialize crosswalk environment"
   ],
   "metadata": {}
  },
  {
   "outputs": [],
   "cell_type": "code",
   "source": [
    "env = CrosswalkEnv(roadway, crosswalk)"
   ],
   "metadata": {},
   "execution_count": null
  },
  {
   "cell_type": "markdown",
   "source": [
    "**Render the crosswalk**"
   ],
   "metadata": {}
  },
  {
   "cell_type": "markdown",
   "source": [
    "We will define a new method to render this new environment.\n",
    "The roadway part is just rendered regularly, we add specific instuction\n",
    "for the crosswalk part that will display the white stripes."
   ],
   "metadata": {}
  },
  {
   "outputs": [],
   "cell_type": "code",
   "source": [
    "using Cairo\n",
    "\n",
    "function AutomotiveVisualization.add_renderable!(rendermodel::RenderModel, env::CrosswalkEnv)\n",
    "\n",
    "    # render the road without the crosswalk\n",
    "    roadway = gen_straight_roadway(2, roadway_length)\n",
    "    add_renderable!(rendermodel, roadway)\n",
    "\n",
    "    # render crosswalk\n",
    "    curve = env.crosswalk.curve\n",
    "    n = length(curve)\n",
    "    pts = Array{Float64}(undef, 2, n)\n",
    "    for (i,pt) in enumerate(curve)\n",
    "        pts[1,i] = pt.pos.x\n",
    "        pts[2,i] = pt.pos.y\n",
    "    end\n",
    "\n",
    "    add_instruction!(\n",
    "        rendermodel, render_dashed_line,\n",
    "        (pts, colorant\"white\", env.crosswalk.width, 1.0, 1.0, 0.0, Cairo.CAIRO_LINE_CAP_BUTT)\n",
    "    )\n",
    "    return rendermodel\n",
    "end\n",
    "\n",
    "snapshot = render([env])"
   ],
   "metadata": {},
   "execution_count": null
  },
  {
   "cell_type": "markdown",
   "source": [
    "### Navigate the crosswalk example"
   ],
   "metadata": {}
  },
  {
   "cell_type": "markdown",
   "source": [
    "Cars will be navigating in the roadway just as before.\n",
    "For the pedestrian we can define a new vehicle definition where we specify\n",
    "the size of the bounding box represented by the pedestrian."
   ],
   "metadata": {}
  },
  {
   "cell_type": "markdown",
   "source": [
    "field of the VehicleDef type"
   ],
   "metadata": {}
  },
  {
   "outputs": [],
   "cell_type": "code",
   "source": [
    "fieldnames(VehicleDef)\n",
    "# Agent.Class is from AutomotiveSimulator\n",
    "const PEDESTRIAN_DEF = VehicleDef(AgentClass.PEDESTRIAN, 1.0, 1.0)"
   ],
   "metadata": {},
   "execution_count": null
  },
  {
   "cell_type": "markdown",
   "source": [
    "Car definition"
   ],
   "metadata": {}
  },
  {
   "outputs": [],
   "cell_type": "code",
   "source": [
    "car_initial_state = VehicleState(VecSE2(5.0, 0., 0.), roadway.segments[1].lanes[1],roadway, 8.0)\n",
    "car = Entity(car_initial_state, VehicleDef(), :car)"
   ],
   "metadata": {},
   "execution_count": null
  },
  {
   "cell_type": "markdown",
   "source": [
    "Pedestrian definition using our new Vehicle definition"
   ],
   "metadata": {}
  },
  {
   "outputs": [],
   "cell_type": "code",
   "source": [
    "ped_initial_state = VehicleState(VecSE2(+24.5,-7.0,π/2), env.crosswalk, roadway, 0.5)\n",
    "ped = Entity(ped_initial_state, PEDESTRIAN_DEF, :pedestrian)\n",
    "\n",
    "scene = Scene([car, ped])"
   ],
   "metadata": {},
   "execution_count": null
  },
  {
   "cell_type": "markdown",
   "source": [
    "visualize the initial state"
   ],
   "metadata": {}
  },
  {
   "outputs": [],
   "cell_type": "code",
   "source": [
    "snapshot = render([env, scene])"
   ],
   "metadata": {},
   "execution_count": null
  },
  {
   "cell_type": "markdown",
   "source": [
    "### Simulate the scenario"
   ],
   "metadata": {}
  },
  {
   "cell_type": "markdown",
   "source": [
    "As before, associate a driver model to each vehicle in the scene.\n",
    "We will use the model defined in the intersection example for both agents."
   ],
   "metadata": {}
  },
  {
   "outputs": [],
   "cell_type": "code",
   "source": [
    "mutable struct LinearDriver <: DriverModel{LaneFollowingAccel}\n",
    "    a::LaneFollowingAccel\n",
    "    p::Float64 # confidence on the pedestrian intention\n",
    "    k::Float64 # gain\n",
    "end\n",
    "\n",
    "function AutomotiveSimulator.observe!(model::LinearDriver, scene::Scene, roadway::Roadway, egoid)\n",
    "    model.a = LaneFollowingAccel(model.k*model.p)\n",
    "    # change the confidence based on some policy\n",
    "    # you can get the position of the pedestrian from the scene\n",
    "    model.p = 100.0\n",
    "end\n",
    "Base.rand(rng::AbstractRNG, model::LinearDriver) = model.a\n",
    "\n",
    "timestep = 0.1\n",
    "nticks = 50\n",
    "\n",
    "# define a model for each entities present in the scene\n",
    "models = Dict{Symbol, DriverModel}()\n",
    "\n",
    "# Constant speed model\n",
    "models[:car] = LinearDriver(LaneFollowingAccel(0.0), 20.0, -0.02)\n",
    "models[:pedestrian] = IntelligentDriverModel(v_des=1.0)\n",
    "\n",
    "# execute the simulation\n",
    "scenes = simulate(scene, roadway, models, nticks, timestep)"
   ],
   "metadata": {},
   "execution_count": null
  },
  {
   "cell_type": "markdown",
   "source": [
    "## Generate a video with Reel.jl"
   ],
   "metadata": {}
  },
  {
   "outputs": [],
   "cell_type": "code",
   "source": [
    "using Reel\n",
    "\n",
    "function animate_record(scenes::Vector{Scene{E}},dt::Float64, env::CrosswalkEnv) where {E<:Entity}\n",
    "    duration = length(scenes)*dt::Float64\n",
    "    fps = Int(1/dt)\n",
    "    function render_rec(t, dt)\n",
    "        frame_index = Int(floor(t/dt)) + 1\n",
    "        return render([env, scenes[frame_index]])\n",
    "    end\n",
    "    return duration, fps, render_rec\n",
    "end\n",
    "\n",
    "duration, fps, render_hist = animate_record(scenes, timestep, env)\n",
    "film = roll(render_hist, fps=fps, duration=duration)"
   ],
   "metadata": {},
   "execution_count": null
  },
  {
   "cell_type": "markdown",
   "source": [
    "---\n",
    "\n",
    "*This notebook was generated using [Literate.jl](https://github.com/fredrikekre/Literate.jl).*"
   ],
   "metadata": {}
  }
 ],
 "nbformat_minor": 3,
 "metadata": {
  "language_info": {
   "file_extension": ".jl",
   "mimetype": "application/julia",
   "name": "julia",
   "version": "1.5.3"
  },
  "kernelspec": {
   "name": "julia-1.5",
   "display_name": "Julia 1.5.3",
   "language": "julia"
  }
 },
 "nbformat": 4
}
