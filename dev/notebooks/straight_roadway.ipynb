{
 "cells": [
  {
   "cell_type": "markdown",
   "source": [
    "# Driving on a Straight Roadway"
   ],
   "metadata": {}
  },
  {
   "cell_type": "markdown",
   "source": [
    "This example demonstrates a simple, one-dimensional driving simulation in which\n",
    "cars drive along a straight roadway.\n",
    "The vehicles are represented using the `Entity` type with the followin attributes:\n",
    "\n",
    "- `state` - `VehicleState`, containing the vehicle position and speed\n",
    "- `def` - `VehicleDef`, containing length, width, and class\n",
    "- `id` - `Int`, a unique label for each vehicle`\n",
    "\n",
    "A driving situation with different vehicles at a given time is referred to as a scene. It is represented by the `Scene` object.\n",
    "A `Scene` can be thought of as a vector of vehicles. However, in addition to simple vectors it allows to query vehicles by ID using the `get_by_id` function.\n",
    "We use a straight roadway with 1 lane as the environment."
   ],
   "metadata": {}
  },
  {
   "outputs": [],
   "cell_type": "code",
   "source": [
    "using AutomotiveSimulator\n",
    "using AutomotiveVisualization # for rendering\n",
    "AutomotiveVisualization.colortheme[\"background\"] = colorant\"white\"; # hide\n",
    "\n",
    "roadway = gen_straight_roadway(1, 2000.0)  # 200m long straight roadway with 1 lane\n",
    "scene = Scene([\n",
    "    Entity(VehicleState(VecSE2(10.0,0.0,0.0), roadway, 8.0), VehicleDef(), 1),\n",
    "    Entity(VehicleState(VecSE2(50.0,0.0,0.0), roadway, 12.5), VehicleDef(), 2),\n",
    "    Entity(VehicleState(VecSE2(150.0,0.0,0.0), roadway, 6.0), VehicleDef(), 3),\n",
    "])\n",
    "\n",
    "veh_1 = get_by_id(scene, 1) # note that the order of the vehicles in the scene does not necessarily match the id\n",
    "\n",
    "camera = StaticCamera(position=VecE2(100.0,0.0), zoom=4.75, canvas_height=100)\n",
    "snapshot = render([roadway, scene], camera=camera)"
   ],
   "metadata": {},
   "execution_count": null
  },
  {
   "cell_type": "markdown",
   "source": [
    "In this call to the `render` function, we use the default rendering behavior for\n",
    "entities. More advanced examples will show how the rendering of entities can be customized."
   ],
   "metadata": {}
  },
  {
   "cell_type": "markdown",
   "source": [
    "We can add an overlay that displays the car id:"
   ],
   "metadata": {}
  },
  {
   "outputs": [],
   "cell_type": "code",
   "source": [
    "idoverlay = IDOverlay(scene=scene, color=colorant\"black\", font_size=20, y_off=1.)\n",
    "snapshot = render([roadway, scene, idoverlay], camera=camera)"
   ],
   "metadata": {},
   "execution_count": null
  },
  {
   "cell_type": "markdown",
   "source": [
    "To run a simulation we need driving models that produce actions.\n",
    "For this we will use `LaneFollowingDriver`s that produce `LaneFollowingAccel`s.\n",
    "For this demo, we will give each car a different model."
   ],
   "metadata": {}
  },
  {
   "outputs": [],
   "cell_type": "code",
   "source": [
    "models = Dict{Int, LaneFollowingDriver}(\n",
    "    1 => StaticLaneFollowingDriver(0.0), # always produce zero acceleration\n",
    "    2 => IntelligentDriverModel(v_des=12.0), # default IDM with a desired speed of 12 m/s\n",
    "    3 => PrincetonDriver(v_des = 10.0), # default Princeton driver with a desired speed of 10m/s\n",
    ")\n",
    "\n",
    "nticks = 100\n",
    "timestep = 0.1\n",
    "scenes = simulate(scene, roadway, models, nticks, timestep)"
   ],
   "metadata": {},
   "execution_count": null
  },
  {
   "cell_type": "markdown",
   "source": [
    "We can visualize the simulation as a sequence of images, for example using the\n",
    "`Reel` package"
   ],
   "metadata": {}
  },
  {
   "outputs": [],
   "cell_type": "code",
   "source": [
    "using Reel\n",
    "\n",
    "animation = roll(fps=1.0/timestep, duration=nticks*timestep) do t, dt\n",
    "    i = Int(floor(t/dt)) + 1\n",
    "    idoverlay.scene = scenes[i]\n",
    "    renderables = [roadway, scenes[i], idoverlay]\n",
    "    render(renderables, camera=camera)\n",
    "end"
   ],
   "metadata": {},
   "execution_count": null
  },
  {
   "cell_type": "markdown",
   "source": [
    "In order to inspect the simulation interactively, we can use the `Interact` package"
   ],
   "metadata": {}
  },
  {
   "cell_type": "markdown",
   "source": [
    "---\n",
    "\n",
    "*This notebook was generated using [Literate.jl](https://github.com/fredrikekre/Literate.jl).*"
   ],
   "metadata": {}
  }
 ],
 "nbformat_minor": 3,
 "metadata": {
  "language_info": {
   "file_extension": ".jl",
   "mimetype": "application/julia",
   "name": "julia",
   "version": "1.5.3"
  },
  "kernelspec": {
   "name": "julia-1.5",
   "display_name": "Julia 1.5.3",
   "language": "julia"
  }
 },
 "nbformat": 4
}
