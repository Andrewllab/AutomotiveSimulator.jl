{
 "cells": [
  {
   "cell_type": "markdown",
   "source": [
    "# Intersection"
   ],
   "metadata": {}
  },
  {
   "cell_type": "markdown",
   "source": [
    "In this example we demonstrate how to define a T-shape intersection with `AutomotiveSimulator`.\n",
    "You will also learn how to define your own custom action type and driver model type."
   ],
   "metadata": {}
  },
  {
   "cell_type": "markdown",
   "source": [
    "## Generate a T-Shape intersection"
   ],
   "metadata": {}
  },
  {
   "cell_type": "markdown",
   "source": [
    "In order to generate the road network, we first initialize a Roadway object."
   ],
   "metadata": {}
  },
  {
   "outputs": [],
   "cell_type": "code",
   "source": [
    "using AutomotiveSimulator\n",
    "using AutomotiveVisualization\n",
    "AutomotiveVisualization.colortheme[\"background\"] = colorant\"white\"; # hide\n",
    "using Random\n",
    "\n",
    "roadway = Roadway()"
   ],
   "metadata": {},
   "execution_count": null
  },
  {
   "cell_type": "markdown",
   "source": [
    "Define coordinates of the entry and exit points to the intersection"
   ],
   "metadata": {}
  },
  {
   "outputs": [],
   "cell_type": "code",
   "source": [
    "r = 5.0 # turn radius\n",
    "w = DEFAULT_LANE_WIDTH\n",
    "\n",
    "A = VecSE2(0.0,w,-π)\n",
    "B = VecSE2(0.0,0.0,0.0)\n",
    "C = VecSE2(r,-r,-π/2)\n",
    "D = VecSE2(r+w,-r,π/2)\n",
    "E = VecSE2(2r+w,0,0)\n",
    "F = VecSE2(2r+w,w,-π)"
   ],
   "metadata": {},
   "execution_count": null
  },
  {
   "cell_type": "markdown",
   "source": [
    "The next step consists in appending all the lanes to the road network.\n",
    "We can define a helper function to add a new lane to the roadway."
   ],
   "metadata": {}
  },
  {
   "outputs": [],
   "cell_type": "code",
   "source": [
    "function append_to_curve!(target::Curve, newstuff::Curve)\n",
    "    s_end = target[end].s\n",
    "    for c in newstuff\n",
    "        push!(target, CurvePt(c.pos, c.s+s_end, c.k, c.kd))\n",
    "    end\n",
    "    return target\n",
    "end"
   ],
   "metadata": {},
   "execution_count": null
  },
  {
   "cell_type": "markdown",
   "source": [
    "Example of a lane that consists of 3 road segments, a straight curve\n",
    "(from the left to the center), a turning part (right turn) and a final\n",
    "straight curve."
   ],
   "metadata": {}
  },
  {
   "cell_type": "markdown",
   "source": [
    "Append right turn coming from the left"
   ],
   "metadata": {}
  },
  {
   "outputs": [],
   "cell_type": "code",
   "source": [
    "curve = gen_straight_curve(convert(VecE2, B+VecE2(-100,0)), convert(VecE2, B), 2)\n",
    "append_to_curve!(curve, gen_bezier_curve(B, C, 0.6r, 0.6r, 51)[2:end])\n",
    "append_to_curve!(curve, gen_straight_curve(convert(VecE2, C), convert(VecE2, C+VecE2(0,-50.0)), 2))\n",
    "lane = Lane(LaneTag(length(roadway.segments)+1,1), curve)\n",
    "push!(roadway.segments, RoadSegment(lane.tag.segment, [lane]))"
   ],
   "metadata": {},
   "execution_count": null
  },
  {
   "cell_type": "markdown",
   "source": [
    "visualize the current lane constellation"
   ],
   "metadata": {}
  },
  {
   "outputs": [],
   "cell_type": "code",
   "source": [
    "snapshot = render([roadway])"
   ],
   "metadata": {},
   "execution_count": null
  },
  {
   "cell_type": "markdown",
   "source": [
    "Let's repeat the process and complete the T-shape intersection"
   ],
   "metadata": {}
  },
  {
   "cell_type": "markdown",
   "source": [
    "Append straight left"
   ],
   "metadata": {}
  },
  {
   "outputs": [],
   "cell_type": "code",
   "source": [
    "curve = gen_straight_curve(convert(VecE2, B+VecE2(-100,0)), convert(VecE2, B), 2)\n",
    "append_to_curve!(curve, gen_straight_curve(convert(VecE2, B), convert(VecE2, E), 2)[2:end])\n",
    "append_to_curve!(curve, gen_straight_curve(convert(VecE2, E), convert(VecE2, E+VecE2(50,0)), 2))\n",
    "lane = Lane(LaneTag(length(roadway.segments)+1,1), curve)\n",
    "push!(roadway.segments, RoadSegment(lane.tag.segment, [lane]))"
   ],
   "metadata": {},
   "execution_count": null
  },
  {
   "cell_type": "markdown",
   "source": [
    "Append straight right"
   ],
   "metadata": {}
  },
  {
   "outputs": [],
   "cell_type": "code",
   "source": [
    "curve = gen_straight_curve(convert(VecE2, F+VecE2(50,0)), convert(VecE2, F), 2)\n",
    "append_to_curve!(curve, gen_straight_curve(convert(VecE2, F), convert(VecE2, A), 2)[2:end])\n",
    "append_to_curve!(curve, gen_straight_curve(convert(VecE2, A), convert(VecE2, A+VecE2(-100,0)), 2))\n",
    "lane = Lane(LaneTag(length(roadway.segments)+1,1), curve)\n",
    "push!(roadway.segments, RoadSegment(lane.tag.segment, [lane]))"
   ],
   "metadata": {},
   "execution_count": null
  },
  {
   "cell_type": "markdown",
   "source": [
    "Append left turn coming from the right"
   ],
   "metadata": {}
  },
  {
   "outputs": [],
   "cell_type": "code",
   "source": [
    "curve = gen_straight_curve(convert(VecE2, F+VecE2(50,0)), convert(VecE2, F), 2)\n",
    "append_to_curve!(curve, gen_bezier_curve(F, C, 0.9r, 0.9r, 51)[2:end])\n",
    "append_to_curve!(curve, gen_straight_curve(convert(VecE2, C), convert(VecE2, C+VecE2(0,-50)), 2))\n",
    "lane = Lane(LaneTag(length(roadway.segments)+1,1), curve)\n",
    "push!(roadway.segments, RoadSegment(lane.tag.segment, [lane]))"
   ],
   "metadata": {},
   "execution_count": null
  },
  {
   "cell_type": "markdown",
   "source": [
    "Append right turn coming from below"
   ],
   "metadata": {}
  },
  {
   "outputs": [],
   "cell_type": "code",
   "source": [
    "curve = gen_straight_curve(convert(VecE2, D+VecE2(0,-50)), convert(VecE2, D), 2)\n",
    "append_to_curve!(curve, gen_bezier_curve(D, E, 0.6r, 0.6r, 51)[2:end])\n",
    "append_to_curve!(curve, gen_straight_curve(convert(VecE2, E), convert(VecE2, E+VecE2(50,0)), 2))\n",
    "lane = Lane(LaneTag(length(roadway.segments)+1,1), curve)\n",
    "push!(roadway.segments, RoadSegment(lane.tag.segment, [lane]))"
   ],
   "metadata": {},
   "execution_count": null
  },
  {
   "cell_type": "markdown",
   "source": [
    "Append left turn coming from below"
   ],
   "metadata": {}
  },
  {
   "outputs": [],
   "cell_type": "code",
   "source": [
    "curve = gen_straight_curve(convert(VecE2, D+VecE2(0,-50)), convert(VecE2, D), 2)\n",
    "append_to_curve!(curve, gen_bezier_curve(D, A, 0.9r, 0.9r, 51)[2:end])\n",
    "append_to_curve!(curve, gen_straight_curve(convert(VecE2, A), convert(VecE2, A+VecE2(-100,0)), 2))\n",
    "lane = Lane(LaneTag(length(roadway.segments)+1,1), curve)\n",
    "push!(roadway.segments, RoadSegment(lane.tag.segment, [lane]))\n",
    "\n",
    "snapshot = render([roadway])"
   ],
   "metadata": {},
   "execution_count": null
  },
  {
   "cell_type": "markdown",
   "source": [
    "We can identify each lane thanks to the following user-defined functions.\n",
    "We define a `LaneOverlay` object that indicate the lane to highlight.\n",
    "One could implement any custom type to display other information on the lane.\n",
    "We then add a new method to the `add_renderable!` function that execute the specific\n",
    "action (coloring in blue). Look at `AutomotiveVisualization.jl` for more detail on the function\n",
    "`add_renderable!`."
   ],
   "metadata": {}
  },
  {
   "cell_type": "markdown",
   "source": [
    "The following animation iterates over the individual lanes of the intersection\n",
    "layout and highlights them:"
   ],
   "metadata": {}
  },
  {
   "outputs": [],
   "cell_type": "code",
   "source": [
    "struct LaneOverlay\n",
    "    roadway::Roadway\n",
    "    lane::Lane\n",
    "    color::Colorant\n",
    "end\n",
    "function AutomotiveVisualization.add_renderable!(rendermodel::RenderModel, overlay::LaneOverlay)\n",
    "    add_renderable!(rendermodel, overlay.lane, overlay.roadway, color_asphalt=overlay.color)\n",
    "end\n",
    "\n",
    "\n",
    "using Reel\n",
    "\n",
    "animation = roll(fps=1.0, duration=length(roadway.segments)) do t, dt\n",
    "    i = Int(floor(t/dt)) + 1\n",
    "    renderables = [\n",
    "        roadway,\n",
    "        LaneOverlay(roadway, roadway[LaneTag(i,1)], RGBA(0.0,0.0,1.0,0.5))\n",
    "    ]\n",
    "    render(renderables)\n",
    "end;"
   ],
   "metadata": {},
   "execution_count": null
  },
  {
   "cell_type": "markdown",
   "source": [
    "## Navigation in the new road network"
   ],
   "metadata": {}
  },
  {
   "cell_type": "markdown",
   "source": [
    "Let's populate the intersection"
   ],
   "metadata": {}
  },
  {
   "outputs": [],
   "cell_type": "code",
   "source": [
    "vs0 = VehicleState(B + polar(50.0,-π), roadway, 8.0) # initial state of the vehicle\n",
    "scene = Scene([Entity(vs0, VehicleDef(), 1)])\n",
    "\n",
    "snapshot = render([roadway, scene])"
   ],
   "metadata": {},
   "execution_count": null
  },
  {
   "cell_type": "markdown",
   "source": [
    "We will use lateral and longitudinal acceleration to control a car in the intersection. The first step is to define a corresponding action type that will contain the acceleration inputs."
   ],
   "metadata": {}
  },
  {
   "outputs": [],
   "cell_type": "code",
   "source": [
    "struct LaneSpecificAccelLatLon\n",
    "    a_lat::Float64\n",
    "    a_lon::Float64\n",
    "end"
   ],
   "metadata": {},
   "execution_count": null
  },
  {
   "cell_type": "markdown",
   "source": [
    "Next, add a method to the propagate function to update the state using our new action type."
   ],
   "metadata": {}
  },
  {
   "outputs": [],
   "cell_type": "code",
   "source": [
    "function AutomotiveSimulator.propagate(veh::Entity, action::LaneSpecificAccelLatLon, roadway::Roadway, Δt::Float64)\n",
    "    lane_tag_orig = veh.state.posF.roadind.tag\n",
    "    state = propagate(veh, LatLonAccel(action.a_lat, action.a_lon), roadway, Δt)\n",
    "    roadproj = proj(state.posG, roadway[lane_tag_orig], roadway, move_along_curves=false)\n",
    "    retval = VehicleState(Frenet(roadproj, roadway), roadway, state.v)\n",
    "    return retval\n",
    "end"
   ],
   "metadata": {},
   "execution_count": null
  },
  {
   "cell_type": "markdown",
   "source": [
    "**Driver Model:**"
   ],
   "metadata": {}
  },
  {
   "cell_type": "markdown",
   "source": [
    "We define a driver model,\n",
    "which can be seen as a distribution over actions.  # TODO\n",
    "Here we will define the simplest model, which is to repeat the same action."
   ],
   "metadata": {}
  },
  {
   "outputs": [],
   "cell_type": "code",
   "source": [
    "struct InterDriver <: DriverModel{LaneSpecificAccelLatLon}\n",
    "    a::LaneSpecificAccelLatLon\n",
    "end\n",
    "\n",
    "AutomotiveSimulator.observe!(model::InterDriver, scene::Scene, roadway::Roadway, egoid::Int64) = model\n",
    "Base.rand(::AbstractRNG, model::InterDriver) = model.a"
   ],
   "metadata": {},
   "execution_count": null
  },
  {
   "cell_type": "markdown",
   "source": [
    "**Simulate:**"
   ],
   "metadata": {}
  },
  {
   "cell_type": "markdown",
   "source": [
    "First associate a model to each driver in the scene using a dictionary.\n",
    "Here we only have one driver identified by its ID: 1.\n",
    "Then everything is ready to run the `simulate!` function."
   ],
   "metadata": {}
  },
  {
   "outputs": [],
   "cell_type": "code",
   "source": [
    "using Reel\n",
    "\n",
    "timestep = 0.1\n",
    "nticks = 100\n",
    "\n",
    "vs0 = VehicleState(B + polar(50.0,-π), roadway, 8.0)\n",
    "scene = Scene([Entity(vs0, VehicleDef(), 1)])\n",
    "models = Dict(1 => InterDriver(LaneSpecificAccelLatLon(0.0,0.0)))\n",
    "scenes = simulate(scene, roadway, models, nticks, timestep)\n",
    "\n",
    "animation = roll(fps=1.0/timestep, duration=nticks*timestep) do t, dt\n",
    "    i = Int(floor(t/dt)) + 1\n",
    "    renderables = [roadway, scenes[i]]\n",
    "    render(renderables)\n",
    "end"
   ],
   "metadata": {},
   "execution_count": null
  },
  {
   "cell_type": "markdown",
   "source": [
    "---\n",
    "\n",
    "*This notebook was generated using [Literate.jl](https://github.com/fredrikekre/Literate.jl).*"
   ],
   "metadata": {}
  }
 ],
 "nbformat_minor": 3,
 "metadata": {
  "language_info": {
   "file_extension": ".jl",
   "mimetype": "application/julia",
   "name": "julia",
   "version": "1.5.0"
  },
  "kernelspec": {
   "name": "julia-1.5",
   "display_name": "Julia 1.5.0",
   "language": "julia"
  }
 },
 "nbformat": 4
}
