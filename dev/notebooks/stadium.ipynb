{
 "cells": [
  {
   "cell_type": "markdown",
   "source": [
    "# Driving in a Stadium"
   ],
   "metadata": {}
  },
  {
   "cell_type": "markdown",
   "source": [
    "This example demonstrates a 2D driving simulation where cars drive around a three-lane stadium.\n",
    "The entities are defined by the types:\n",
    "\n",
    "- `S` - `VehicleState`, containing the vehicle position (both globally and relative to the lane) and speed\n",
    "- `D` - `VehicleDef`, containing length, width, and class\n",
    "- `I` - `Symbol`, a unique label for each vehicle\n",
    "\n",
    "The environment is represented by a `Roadway` object which\n",
    "allows to define roads consisting of multiple lanes based on the RNDF format."
   ],
   "metadata": {}
  },
  {
   "cell_type": "markdown",
   "source": [
    "We load relevant modules and generate a 3-lane stadium roadway:"
   ],
   "metadata": {}
  },
  {
   "outputs": [],
   "cell_type": "code",
   "source": [
    "using AutomotiveSimulator\n",
    "using AutomotiveVisualization\n",
    "AutomotiveVisualization.colortheme[\"background\"] = colorant\"white\"; # hide\n",
    "using Distributions\n",
    "\n",
    "roadway = gen_stadium_roadway(3)\n",
    "snapshot = render([roadway])"
   ],
   "metadata": {},
   "execution_count": null
  },
  {
   "cell_type": "markdown",
   "source": [
    "As a next step, let's populate a scene with vehicles"
   ],
   "metadata": {}
  },
  {
   "outputs": [],
   "cell_type": "code",
   "source": [
    "w = DEFAULT_LANE_WIDTH\n",
    "scene = Scene([\n",
    "    Entity(VehicleState(VecSE2(10.0,  -w, 0.0), roadway, 29.0), VehicleDef(), :alice),\n",
    "    Entity(VehicleState(VecSE2(40.0, 0.0, 0.0), roadway, 22.0), VehicleDef(), :bob),\n",
    "    Entity(VehicleState(VecSE2(30.0, -2w, 0.0), roadway, 27.0), VehicleDef(), :charlie),\n",
    "])\n",
    "car_colors = get_pastel_car_colors(scene)\n",
    "renderables = [\n",
    "    roadway,\n",
    "    (FancyCar(car=veh, color=car_colors[veh.id]) for veh in scene)...\n",
    "]\n",
    "snapshot = render(renderables)"
   ],
   "metadata": {},
   "execution_count": null
  },
  {
   "cell_type": "markdown",
   "source": [
    "We can assign driver models to each agent and simulate the scenario."
   ],
   "metadata": {}
  },
  {
   "outputs": [],
   "cell_type": "code",
   "source": [
    "timestep = 0.1\n",
    "nticks = 300\n",
    "\n",
    "models = Dict{Symbol, DriverModel}(\n",
    "    :alice => LatLonSeparableDriver( # produces LatLonAccels\n",
    "        ProportionalLaneTracker(), # lateral model\n",
    "        IntelligentDriverModel(), # longitudinal model\n",
    "    ),\n",
    "    :bob => Tim2DDriver(\n",
    "         mlane = MOBIL(),\n",
    "    ),\n",
    "    :charlie => StaticDriver{AccelTurnrate, MvNormal}(\n",
    "        MvNormal([0.0,0.0], [1.0,0.1])\n",
    "    )\n",
    ")\n",
    "\n",
    "set_desired_speed!(models[:alice],   12.0)\n",
    "set_desired_speed!(models[:bob],     10.0)\n",
    "set_desired_speed!(models[:charlie],  8.0)\n",
    "\n",
    "scenes = simulate(scene, roadway, models, nticks, timestep)"
   ],
   "metadata": {},
   "execution_count": null
  },
  {
   "cell_type": "markdown",
   "source": [
    "md nothing # hide"
   ],
   "metadata": {}
  },
  {
   "cell_type": "markdown",
   "source": [
    "An animation of the simulation can be rendered using the `Reel` package"
   ],
   "metadata": {}
  },
  {
   "outputs": [],
   "cell_type": "code",
   "source": [
    "using Reel\n",
    "using Printf\n",
    "\n",
    "camera = TargetFollowCamera(:alice; zoom=10.)\n",
    "\n",
    "animation = roll(fps=1.0/timestep, duration=nticks*timestep) do t, dt\n",
    "    i = Int(floor(t/dt)) + 1\n",
    "    update_camera!(camera, scenes[i])\n",
    "    renderables = [\n",
    "        roadway,\n",
    "        (FancyCar(car=veh, color=car_colors[veh.id]) for veh in scenes[i])...,\n",
    "        IDOverlay(x_off=-2, y_off=1, scene=scenes[i]),\n",
    "        TextOverlay(text=[@sprintf(\"time: %.1fs\", t)], pos=VecE2(40,40), font_size=24)\n",
    "    ]\n",
    "    render(renderables, camera=camera)\n",
    "end"
   ],
   "metadata": {},
   "execution_count": null
  },
  {
   "cell_type": "markdown",
   "source": [
    "Alternatively, one can also use the `Interact` framework to inspect the simulation record interactively."
   ],
   "metadata": {}
  },
  {
   "cell_type": "markdown",
   "source": [
    "The simulation results can be saved to a text file. Only entities using `VehicleState` and `VehicleDef` are supported out of the box.\n",
    "If you wish to do IO operation with different states and definition types you have to implement `Base.write` and `Base.read` for those new types."
   ],
   "metadata": {}
  },
  {
   "outputs": [],
   "cell_type": "code",
   "source": [
    "open(\"2Dstadium_listrec.txt\", \"w\") do io\n",
    "    write(io, scenes)\n",
    "end"
   ],
   "metadata": {},
   "execution_count": null
  },
  {
   "cell_type": "markdown",
   "source": [
    "The trajectory data file can be loaded in a similar way. You need to specify the output type."
   ],
   "metadata": {}
  },
  {
   "outputs": [],
   "cell_type": "code",
   "source": [
    "loaded_scenes = open(\"2Dstadium_listrec.txt\", \"r\") do io\n",
    "    read(io, Vector{EntityScene{VehicleState, VehicleDef, String}})\n",
    "end\n",
    "render([roadway, loaded_scenes[1]])"
   ],
   "metadata": {},
   "execution_count": null
  },
  {
   "cell_type": "markdown",
   "source": [
    "---\n",
    "\n",
    "*This notebook was generated using [Literate.jl](https://github.com/fredrikekre/Literate.jl).*"
   ],
   "metadata": {}
  }
 ],
 "nbformat_minor": 3,
 "metadata": {
  "language_info": {
   "file_extension": ".jl",
   "mimetype": "application/julia",
   "name": "julia",
   "version": "1.4.1"
  },
  "kernelspec": {
   "name": "julia-1.4",
   "display_name": "Julia 1.4.1",
   "language": "julia"
  }
 },
 "nbformat": 4
}
