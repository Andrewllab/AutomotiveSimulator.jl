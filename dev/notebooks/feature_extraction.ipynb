{
 "cells": [
  {
   "cell_type": "markdown",
   "source": [
    "# Feature Extraction"
   ],
   "metadata": {}
  },
  {
   "cell_type": "markdown",
   "source": [
    "In this example we demonstrate how to extract feature from trajectories using AutomotiveSimulator"
   ],
   "metadata": {}
  },
  {
   "cell_type": "markdown",
   "source": [
    "**Load a Dataset**\n",
    "First let's create a synthetic dataset."
   ],
   "metadata": {}
  },
  {
   "outputs": [],
   "cell_type": "code",
   "source": [
    "using AutomotiveSimulator\n",
    "using AutomotiveVisualization\n",
    "AutomotiveVisualization.colortheme[\"background\"] = colorant\"white\"; # hide\n",
    "using Random\n",
    "\n",
    "roadway = roadway = gen_straight_roadway(3, 1000.0)\n",
    "veh_state = VehicleState(Frenet(roadway[LaneTag(1,2)], 0.0), roadway, 10.)\n",
    "veh1 = Entity(veh_state, VehicleDef(), \"bob\")\n",
    "veh_state = VehicleState(Frenet(roadway[LaneTag(1,2)], 20.0), roadway, 2.)\n",
    "veh2 = Entity(veh_state, VehicleDef(), \"alice\")\n",
    "\n",
    "dt = 0.5\n",
    "n_steps = 10\n",
    "models = Dict{String, DriverModel}()\n",
    "models[\"bob\"] = Tim2DDriver(mlane=MOBIL())\n",
    "set_desired_speed!(models[\"bob\"], 10.0)\n",
    "models[\"alice\"] = Tim2DDriver(mlane=MOBIL())\n",
    "set_desired_speed!(models[\"alice\"], 2.0)\n",
    "\n",
    "scene = Scene([veh1, veh2])\n",
    "scenes = simulate(scene, roadway, models, n_steps, dt)\n",
    "camera = SceneFollowCamera()\n",
    "update_camera!(camera, scene)\n",
    "snapshot = render([roadway, scene], camera=camera)"
   ],
   "metadata": {},
   "execution_count": null
  },
  {
   "cell_type": "markdown",
   "source": [
    "One can also load the data from the Stadium tutorial"
   ],
   "metadata": {}
  },
  {
   "cell_type": "markdown",
   "source": [
    "**Extract features from a recorded trajectory**\n",
    "Recorded trajectories are expected to be vectors of `Scene`s where each element correspond to one time step.\n",
    "To extract features, one can use the `extract_features` function which takes as input\n",
    "a list of feature we want to extract and the list of vehicle ids for which we want those features.\n",
    "For this example, let's first query two features, the longitudinal and lateral position of Bob, and whether or not Bob is colliding:"
   ],
   "metadata": {}
  },
  {
   "outputs": [],
   "cell_type": "code",
   "source": [
    "dfs = extract_features((posfs, posft, iscolliding), roadway, scenes, [\"bob\"])\n",
    "dfs[\"bob\"]"
   ],
   "metadata": {},
   "execution_count": null
  },
  {
   "cell_type": "markdown",
   "source": [
    "To query features for all traffic participants we can just add their ID to the list:"
   ],
   "metadata": {}
  },
  {
   "outputs": [],
   "cell_type": "code",
   "source": [
    "dfs = extract_features((posfs, posft, iscolliding), roadway, scenes, [\"bob\", \"alice\"])\n",
    "dfs[\"alice\"]"
   ],
   "metadata": {},
   "execution_count": null
  },
  {
   "cell_type": "markdown",
   "source": [
    "The output is a dictionary mapping ID to dataframes. To learn more about DataFrames visit [DataFrames.jl](https://github.com/JuliaData/DataFrames.jl)."
   ],
   "metadata": {}
  },
  {
   "cell_type": "markdown",
   "source": [
    "For the list of all possible features available see the documentation.\n",
    "Features are generally just function. AutomotiveSimulator provides some convenience\n",
    "to automatically generate feature function like `distance_to_$x`\n",
    "The `distance_to` function takes as input a vehicle ID and returns a function to extract\n",
    "the distance between the queried vehicle and the vehicle given to `distance_to`"
   ],
   "metadata": {}
  },
  {
   "outputs": [],
   "cell_type": "code",
   "source": [
    "distance_to(\"alice\")"
   ],
   "metadata": {},
   "execution_count": null
  },
  {
   "cell_type": "markdown",
   "source": [
    "we can use this newly generated funciton in the feature extraction pipeline"
   ],
   "metadata": {}
  },
  {
   "outputs": [],
   "cell_type": "code",
   "source": [
    "dfs = extract_features((distance_to_alice, posfs), roadway, scenes, [\"bob\"])\n",
    "dfs[\"bob\"].distance_to_alice[1] # distance between Bob and Alice in the first scene."
   ],
   "metadata": {},
   "execution_count": null
  },
  {
   "cell_type": "markdown",
   "source": [
    "---\n",
    "\n",
    "*This notebook was generated using [Literate.jl](https://github.com/fredrikekre/Literate.jl).*"
   ],
   "metadata": {}
  }
 ],
 "nbformat_minor": 3,
 "metadata": {
  "language_info": {
   "file_extension": ".jl",
   "mimetype": "application/julia",
   "name": "julia",
   "version": "1.5.2"
  },
  "kernelspec": {
   "name": "julia-1.5",
   "display_name": "Julia 1.5.2",
   "language": "julia"
  }
 },
 "nbformat": 4
}
